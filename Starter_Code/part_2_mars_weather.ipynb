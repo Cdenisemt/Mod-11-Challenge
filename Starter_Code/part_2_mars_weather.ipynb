{
 "cells": [
  {
   "attachments": {},
   "cell_type": "markdown",
   "metadata": {},
   "source": [
    "# Module 11 Challenge\n",
    "## Deliverable 2: Scrape and Analyze Mars Weather Data"
   ]
  },
  {
   "cell_type": "code",
   "execution_count": 1,
   "metadata": {},
   "outputs": [],
   "source": [
    "# Import relevant libraries\n",
    "from splinter import Browser\n",
    "from bs4 import BeautifulSoup\n",
    "import matplotlib.pyplot as plt\n",
    "import pandas as pd"
   ]
  },
  {
   "cell_type": "code",
   "execution_count": 2,
   "metadata": {},
   "outputs": [],
   "source": [
    "browser = Browser('chrome')"
   ]
  },
  {
   "attachments": {},
   "cell_type": "markdown",
   "metadata": {},
   "source": [
    "### Step 1: Visit the Website\n",
    "\n",
    "Use automated browsing to visit the [Mars Temperature Data Site](https://static.bc-edx.com/data/web/mars_facts/temperature.html). Inspect the page to identify which elements to scrape.\n",
    "\n",
    "   > **Hint** To identify which elements to scrape, you might want to inspect the page by using Chrome DevTools to discover whether the table contains usable classes.\n"
   ]
  },
  {
   "cell_type": "code",
   "execution_count": 3,
   "metadata": {},
   "outputs": [],
   "source": [
    "# Visit the website\n",
    "# https://static.bc-edx.com/data/web/mars_facts/temperature.html\n",
    "url = \"https://static.bc-edx.com/data/web/mars_facts/temperature.html\"\n",
    "browser.visit(url)"
   ]
  },
  {
   "attachments": {},
   "cell_type": "markdown",
   "metadata": {},
   "source": [
    "### Step 2: Scrape the Table\n",
    "\n",
    "Create a Beautiful Soup object and use it to scrape the data in the HTML table.\n",
    "\n",
    "Note that this can also be achieved by using the Pandas `read_html` function. However, use Beautiful Soup here to continue sharpening your web scraping skills."
   ]
  },
  {
   "cell_type": "code",
   "execution_count": 4,
   "metadata": {},
   "outputs": [],
   "source": [
    "# Create a Beautiful Soup Object\n",
    "html = browser.html\n",
    "soup = BeautifulSoup(html, 'html.parser')"
   ]
  },
  {
   "cell_type": "code",
   "execution_count": 5,
   "metadata": {},
   "outputs": [
    {
     "name": "stdout",
     "output_type": "stream",
     "text": [
      "Columns: ['id', 'terrestrial_date', 'sol', 'ls', 'month', 'min_temp', 'pressure']\n"
     ]
    }
   ],
   "source": [
    "# Extract all rows of data\n",
    "table = soup.find('table', class_='table')\n",
    "\n",
    "#Find the header elements in the table \n",
    "header = table.find_all('th')\n",
    "\n",
    "#create an empty list for the column names ( header elements)\n",
    "columns = []\n",
    "\n",
    "#Loop through all the elements of the header\n",
    "for i in range(len(header)):\n",
    "    #add the elements to the header string, with a comma\n",
    "    columns.append(header[i].text)\n",
    "\n",
    "#Print all the header elements, including the last one\n",
    "print(f\"Columns: {columns}\")    \n"
   ]
  },
  {
   "attachments": {},
   "cell_type": "markdown",
   "metadata": {},
   "source": [
    "### Step 3: Store the Data\n",
    "\n",
    "Assemble the scraped data into a Pandas DataFrame. The columns should have the same headings as the table on the website. Here’s an explanation of the column headings:\n",
    "\n",
    "* `id`: the identification number of a single transmission from the Curiosity rover\n",
    "* `terrestrial_date`: the date on Earth\n",
    "* `sol`: the number of elapsed sols (Martian days) since Curiosity landed on Mars\n",
    "* `ls`: the solar longitude\n",
    "* `month`: the Martian month\n",
    "* `min_temp`: the minimum temperature, in Celsius, of a single Martian day (sol)\n",
    "* `pressure`: The atmospheric pressure at Curiosity's location"
   ]
  },
  {
   "cell_type": "code",
   "execution_count": 6,
   "metadata": {},
   "outputs": [],
   "source": [
    "#find all the rows (class data-row to ignore header)\n",
    "data_rows = table.find_all('tr', class_= 'data-row')\n",
    "\n",
    "# Create an empty list\n",
    "data_dicts = []\n",
    "\n",
    "# Loop through the scraped data to create a list of rows\n",
    "for row in data_rows:\n",
    "    #find all row elements \n",
    "    data = row.find_all('td')\n",
    "\n",
    "#create an empty dictionary for the elements\n",
    "data_row = {}\n",
    "\n",
    "#loop through all the columns\n",
    "for i in range(len(columns)):\n",
    "    #add the row element to dictionary, indexed by column name\n",
    "    data_row[columns[i]] = data[i].text\n",
    "\n",
    "data_dicts.append(data_row)    \n"
   ]
  },
  {
   "cell_type": "code",
   "execution_count": 7,
   "metadata": {},
   "outputs": [],
   "source": [
    "# Create a Pandas DataFrame by using the list of rows and a list of the column names\n",
    "weather_df = pd.DataFrame(data_dicts)\n",
    "weather_df\n",
    "\n",
    "#with all the data saved in the DataFrame, the browser cab be closed\n",
    "browser.quit()"
   ]
  },
  {
   "cell_type": "code",
   "execution_count": 8,
   "metadata": {},
   "outputs": [
    {
     "data": {
      "text/plain": [
       "[{'id': '1895',\n",
       "  'terrestrial_date': '2018-02-27',\n",
       "  'sol': '1977',\n",
       "  'ls': '135',\n",
       "  'month': '5',\n",
       "  'min_temp': '-77.0',\n",
       "  'pressure': '727.0'}]"
      ]
     },
     "metadata": {},
     "output_type": "display_data"
    }
   ],
   "source": [
    "# Confirm DataFrame was created successfully\n",
    "# Print the list to confirm success\n",
    "display(data_dicts)"
   ]
  },
  {
   "attachments": {},
   "cell_type": "markdown",
   "metadata": {},
   "source": [
    "### Step 4: Prepare Data for Analysis\n",
    "\n",
    "Examine the data types that are currently associated with each column. If necessary, cast (or convert) the data to the appropriate `datetime`, `int`, or `float` data types.\n",
    "\n",
    "  > **Hint** You can use the Pandas `astype` and `to_datetime` methods to accomplish this task.\n"
   ]
  },
  {
   "cell_type": "code",
   "execution_count": 9,
   "metadata": {},
   "outputs": [
    {
     "data": {
      "text/plain": [
       "id                  object\n",
       "terrestrial_date    object\n",
       "sol                 object\n",
       "ls                  object\n",
       "month               object\n",
       "min_temp            object\n",
       "pressure            object\n",
       "dtype: object"
      ]
     },
     "execution_count": 9,
     "metadata": {},
     "output_type": "execute_result"
    }
   ],
   "source": [
    "# Examine data type of each column\n",
    "weather_df.dtypes"
   ]
  },
  {
   "cell_type": "code",
   "execution_count": 10,
   "metadata": {},
   "outputs": [],
   "source": [
    "# Change data types for data analysis\n",
    "#Numerical types\n",
    "clean_weather_df = weather_df.astype({'sol': 'int',\n",
    "                                      'ls': 'int',\n",
    "                                      'month': 'int',\n",
    "                                      'min_temp': 'float',\n",
    "                                      'pressure': 'float'})\n",
    "\n",
    "#Datetime types\n",
    "clean_weather_df['terrestrial_date'] = pd.to_datetime(weather_df['terrestrial_date'], format='%Y-%m-%d')"
   ]
  },
  {
   "cell_type": "code",
   "execution_count": 11,
   "metadata": {},
   "outputs": [
    {
     "data": {
      "text/plain": [
       "id                          object\n",
       "terrestrial_date    datetime64[ns]\n",
       "sol                          int32\n",
       "ls                           int32\n",
       "month                        int32\n",
       "min_temp                   float64\n",
       "pressure                   float64\n",
       "dtype: object"
      ]
     },
     "execution_count": 11,
     "metadata": {},
     "output_type": "execute_result"
    }
   ],
   "source": [
    "# Confirm type changes were successful by examining data types again\n",
    "clean_weather_df.dtypes"
   ]
  },
  {
   "attachments": {},
   "cell_type": "markdown",
   "metadata": {},
   "source": [
    "### Step 5: Analyze the Data\n",
    "\n",
    "Analyze your dataset by using Pandas functions to answer the following questions:\n",
    "\n",
    "1. How many months exist on Mars?\n",
    "2. How many Martian (and not Earth) days worth of data exist in the scraped dataset?\n",
    "3. What are the coldest and the warmest months on Mars (at the location of Curiosity)? To answer this question:\n",
    "    * Find the average the minimum daily temperature for all of the months.\n",
    "    * Plot the results as a bar chart.\n",
    "4. Which months have the lowest and the highest atmospheric pressure on Mars? To answer this question:\n",
    "    * Find the average the daily atmospheric pressure of all the months.\n",
    "    * Plot the results as a bar chart.\n",
    "5. About how many terrestrial (Earth) days exist in a Martian year? To answer this question:\n",
    "    * Consider how many days elapse on Earth in the time that Mars circles the Sun once.\n",
    "    * Visually estimate the result by plotting the daily minimum temperature.\n"
   ]
  },
  {
   "cell_type": "code",
   "execution_count": 12,
   "metadata": {},
   "outputs": [
    {
     "name": "stdout",
     "output_type": "stream",
     "text": [
      "There are 1 months on Mars.\n"
     ]
    },
    {
     "data": {
      "text/plain": [
       "month\n",
       "5    1\n",
       "Name: count, dtype: int64"
      ]
     },
     "execution_count": 12,
     "metadata": {},
     "output_type": "execute_result"
    }
   ],
   "source": [
    "# 1. How many months are there on Mars?\n",
    "num_of_months = clean_weather_df['month'].nunique()\n",
    "print(f\"There are {num_of_months} months on Mars.\")\n",
    "\n",
    "#Display the number of occurences of each month (sorted by month number)\n",
    "clean_weather_df['month'].value_counts().sort_index()"
   ]
  },
  {
   "cell_type": "code",
   "execution_count": 13,
   "metadata": {},
   "outputs": [
    {
     "name": "stdout",
     "output_type": "stream",
     "text": [
      "There are 1 Martian days (sols) worth of data (distinct values)\n",
      "There are 1 Martian days (sols) worth of data\n"
     ]
    }
   ],
   "source": [
    "# 2. How many sols (Martian days) worth of data are there?\n",
    "num_of_sols = clean_weather_df['sol'].nunique()\n",
    "print(f\"There are {num_of_sols} Martian days (sols) worth of data (distinct values)\")\n",
    "\n",
    "num_of_sols = clean_weather_df['sol'].count()\n",
    "print(f\"There are {num_of_sols} Martian days (sols) worth of data\")"
   ]
  },
  {
   "cell_type": "code",
   "execution_count": 14,
   "metadata": {},
   "outputs": [
    {
     "data": {
      "text/plain": [
       "month\n",
       "5   -77.0\n",
       "Name: min_temp, dtype: float64"
      ]
     },
     "metadata": {},
     "output_type": "display_data"
    }
   ],
   "source": [
    "# 3. What is the average minimum temperature by month?\n",
    "avg_temp_per_month = clean_weather_df.groupby(['month']).mean('min_temp')['min_temp']\n",
    "display(avg_temp_per_month)"
   ]
  },
  {
   "cell_type": "code",
   "execution_count": 15,
   "metadata": {},
   "outputs": [
    {
     "data": {
      "image/png": "[encoded data removed]",
      "text/plain": [
       "<Figure size 640x480 with 1 Axes>"
      ]
     },
     "metadata": {},
     "output_type": "display_data"
    }
   ],
   "source": [
    "# Plot the average minimum temperature by month\n",
    "avg_temp_per_month.plot.bar('min_temp', title = 'Average low temperature', ylabel = 'temperature [degC]')\n",
    "\n",
    "#save image \n",
    "#plt.savefig('Output/avg_temp_per_month_sorted')\n",
    "\n",
    "#show plot\n",
    "plt.show()"
   ]
  },
  {
   "cell_type": "code",
   "execution_count": 16,
   "metadata": {},
   "outputs": [],
   "source": [
    "# Identify the coldest and hottest months in Curiosity's location by sorting the previous graph\n"
   ]
  },
  {
   "cell_type": "code",
   "execution_count": 17,
   "metadata": {},
   "outputs": [
    {
     "data": {
      "text/plain": [
       "month\n",
       "5    727.0\n",
       "Name: pressure, dtype: float64"
      ]
     },
     "metadata": {},
     "output_type": "display_data"
    }
   ],
   "source": [
    "# 4. What is the average pressure by month?\n",
    "avg_press_per_month = clean_weather_df.groupby(['month']).mean('pressure')['pressure']\n",
    "display(avg_press_per_month)"
   ]
  },
  {
   "cell_type": "code",
   "execution_count": 18,
   "metadata": {},
   "outputs": [
    {
     "data": {
      "image/png": "[encoded data removed]",
      "text/plain": [
       "<Figure size 640x480 with 1 Axes>"
      ]
     },
     "metadata": {},
     "output_type": "display_data"
    }
   ],
   "source": [
    "# Plot the average pressure by month\n",
    "avg_press_per_month.plot.bar('min_temp', title = 'Average pressure', ylabel = 'atmospheric pressure')\n",
    "\n",
    "#show plot\n",
    "plt.show()"
   ]
  },
  {
   "cell_type": "code",
   "execution_count": 19,
   "metadata": {},
   "outputs": [
    {
     "data": {
      "image/png": "[encoded data removed]",
      "text/plain": [
       "<Figure size 640x480 with 1 Axes>"
      ]
     },
     "metadata": {},
     "output_type": "display_data"
    }
   ],
   "source": [
    "# Identify the lowest and highest pressure months in Curiosity's location by sorting the previous graph\n",
    "avg_temp_per_month_sorted = avg_temp_per_month.sort_values()\n",
    "\n",
    "#plot the average pressure by month (sorted from low to high)\n",
    "avg_temp_per_month_sorted.plot.bar('min_temp', title = 'Average pressure (low to high)', ylabel = 'atmospheric pressure')\n",
    "\n",
    "#save image as PNG\n",
    "#plt.savefig('Output/avg_press_per_month_sorted.png')\n",
    "\n",
    "#show plot\n",
    "plt.show()"
   ]
  },
  {
   "cell_type": "code",
   "execution_count": 20,
   "metadata": {},
   "outputs": [
    {
     "name": "stdout",
     "output_type": "stream",
     "text": [
      "Start day: 2018-02-27 00:00:00\n",
      "Start day: 2018-02-27 00:00:00\n",
      "Mission duration: 0 terrestrial days\n",
      "Number of days between peaks: ~0\n",
      "Error compared to real value (687 days): -100.00%\n"
     ]
    },
    {
     "data": {
      "image/png": "[encoded data removed]",
      "text/plain": [
       "<Figure size 640x480 with 1 Axes>"
      ]
     },
     "metadata": {},
     "output_type": "display_data"
    }
   ],
   "source": [
    "# 5. How many terrestrial (Earth) days are there in a Martian year?\n",
    "# Visually estimate the result by plotting the daily minimum temperature of each observation in the data set.\n",
    "daily_temperature = clean_weather_df[['terrestrial_date', 'sol', 'min_temp']]\n",
    "\n",
    "#get the first and last dates of the missions (based on the available data)\n",
    "first_day = daily_temperature['terrestrial_date'].min()\n",
    "last_day = daily_temperature['terrestrial_date'].max()\n",
    "\n",
    "#print the first and last mission days \n",
    "print(f'Start day: {first_day}')\n",
    "print(f'Start day: {last_day}')\n",
    "\n",
    "#calculate # of terrestrial days over mission\n",
    "delta = last_day - first_day\n",
    "num_of_days = delta.days\n",
    "\n",
    "#print the mission duration\n",
    "print(f\"Mission duration: {num_of_days} terrestrial days\")\n",
    "\n",
    "#ignore \n",
    "pd.set_option('mode.chained_assignment', None)\n",
    "\n",
    "#create new column\n",
    "daily_temperature['Number of terrestrial days'] = 0\n",
    "\n",
    "#iterate through DataFrame\n",
    "for index, row in daily_temperature.iterrows():\n",
    "    #calculate the # days since beginning of mission and date in current row\n",
    "    delta = daily_temperature.loc[index, 'terrestrial_date'] - first_day\n",
    "\n",
    "    #save # of elapsed days in new column\n",
    "    daily_temperature.loc[index, 'Number of terrestrial days'] = delta.days\n",
    "\n",
    "#plot the temp vs # of days since start\n",
    "daily_temperature.plot('Number of terrestrial days', 'min_temp', grid = True, title = 'Daily low temperatures', ylabel = 'Temperature (degC)', legend = False)\n",
    "\n",
    "#Estimate peak to peak distance\n",
    "peak_1_day = 820\n",
    "peak_2_day =1500\n",
    "\n",
    "#calculate the min and max temp \n",
    "min_temp = daily_temperature['min_temp'].min()\n",
    "max_temp = daily_temperature['min_temp'].max()\n",
    "\n",
    "#plot vertical lines to highlight peaks\n",
    "plt.vlines(peak_1_day,min_temp, max_temp, 'r')\n",
    "plt.vlines(peak_2_day,min_temp, max_temp, 'r')\n",
    "\n",
    "#calculate # of days between peaks\n",
    "peak_to_peak = peak_2_day - peak_2_day\n",
    "print(f\"Number of days between peaks: ~{peak_to_peak}\")\n",
    "\n",
    "#compare to real value\n",
    "mars_year = 687\n",
    "print(f\"Error compared to real value ({mars_year} days): {100*(peak_to_peak-mars_year)/mars_year:.2f}%\")\n",
    "\n",
    "#save image as PNG\n",
    "#plt.savefig(\"Output/daily_temperature.png\")\n",
    "\n",
    "#show plot\n",
    "plt.show()\n"
   ]
  },
  {
   "attachments": {},
   "cell_type": "markdown",
   "metadata": {},
   "source": [
    "#### Minimum Temperature\n",
    "\n",
    "YOUR ANALYSIS HERE"
   ]
  },
  {
   "attachments": {},
   "cell_type": "markdown",
   "metadata": {},
   "source": [
    "#### Atmospheric Pressure\n",
    "\n",
    "YOUR ANALYSIS HERE"
   ]
  },
  {
   "attachments": {},
   "cell_type": "markdown",
   "metadata": {},
   "source": [
    "#### Year Length\n",
    "\n",
    "YOUR ANALYSIS HERE"
   ]
  },
  {
   "attachments": {},
   "cell_type": "markdown",
   "metadata": {},
   "source": [
    "### Step 6: Save the Data\n",
    "\n",
    "Export the DataFrame to a CSV file."
   ]
  },
  {
   "cell_type": "code",
   "execution_count": 21,
   "metadata": {},
   "outputs": [],
   "source": [
    "# Write the data to a CSV\n"
   ]
  },
  {
   "cell_type": "code",
   "execution_count": 22,
   "metadata": {},
   "outputs": [],
   "source": [
    "browser.quit()"
   ]
  }
 ],
 "metadata": {
  "kernelspec": {
   "display_name": "Python 3 (ipykernel)",
   "language": "python",
   "name": "python3"
  },
  "language_info": {
   "codemirror_mode": {
    "name": "ipython",
    "version": 3
   },
   "file_extension": ".py",
   "mimetype": "text/x-python",
   "name": "python",
   "nbconvert_exporter": "python",
   "pygments_lexer": "ipython3",
   "version": "3.10.14"
  },
  "vscode": {
   "interpreter": {
    "hash": "31f2aee4e71d21fbe5cf8b01ff0e069b9275f58929596ceb00d14d90e3e16cd6"
   }
  }
 },
 "nbformat": 4,
 "nbformat_minor": 4
}
